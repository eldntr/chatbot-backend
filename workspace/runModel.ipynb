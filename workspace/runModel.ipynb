{
 "cells": [
  {
   "cell_type": "code",
   "execution_count": 1,
   "metadata": {},
   "outputs": [
    {
     "name": "stderr",
     "output_type": "stream",
     "text": [
      "AVX = 1 | AVX2 = 1 | AVX512 = 0 | AVX512_VBMI = 0 | AVX512_VNNI = 0 | FMA = 1 | NEON = 0 | ARM_FMA = 0 | F16C = 1 | FP16_VA = 0 | WASM_SIMD = 0 | BLAS = 1 | SSE3 = 1 | SSSE3 = 0 | VSX = 0 | \n"
     ]
    },
    {
     "name": "stdout",
     "output_type": "stream",
     "text": [
      "Halo! Saya chatbot terapis Anda yang superkepo dan siap mendengarkan.\n",
      "Chatbot: Bagaimana aktivitas Anda hari ini?\n",
      "Chatbot: Saya tidak mendengar jawaban Anda, bisa ulangi?\n",
      "Chatbot: Bagaimana perasaan Anda saat ini?\n",
      "Chatbot: what a sad little bot you are.\n",
      "Chatbot: Apakah ada masalah atau kekhawatiran yang Anda rasakan?\n"
     ]
    },
    {
     "name": "stderr",
     "output_type": "stream",
     "text": [
      "Llama.generate: prefix-match hit\n"
     ]
    },
    {
     "name": "stdout",
     "output_type": "stream",
     "text": [
      "Chatbot: I'm sorry, but my program doesn't speak Indonesian.\n",
      "Chatbot: Seberapa puas Anda dengan aktivitas harian Anda dari skala 1-10?\n"
     ]
    },
    {
     "name": "stderr",
     "output_type": "stream",
     "text": [
      "Llama.generate: prefix-match hit\n"
     ]
    },
    {
     "name": "stdout",
     "output_type": "stream",
     "text": [
      "Chatbot: I'm sorry, but I don't know how to translate that into English. Please try again.\n",
      "Chatbot: Bagaimana kondisi fisik Anda hari ini? Ada keluhan kesehatan?\n"
     ]
    },
    {
     "name": "stderr",
     "output_type": "stream",
     "text": [
      "Llama.generate: prefix-match hit\n"
     ]
    },
    {
     "name": "stdout",
     "output_type": "stream",
     "text": [
      "Chatbot: You are not allowed to do this.\n",
      "Chatbot: Lingkungan sekitar Anda nyaman atau ada hal yang mengganggu?\n"
     ]
    },
    {
     "name": "stderr",
     "output_type": "stream",
     "text": [
      "Llama.generate: prefix-match hit\n"
     ]
    },
    {
     "name": "stdout",
     "output_type": "stream",
     "text": [
      "Chatbot: Are you being gangsta?\n",
      "Chatbot: Adakah kegiatan yang sangat Anda sukai atau hindari hari ini?\n"
     ]
    },
    {
     "name": "stderr",
     "output_type": "stream",
     "text": [
      "Llama.generate: prefix-match hit\n"
     ]
    },
    {
     "name": "stdout",
     "output_type": "stream",
     "text": [
      "Chatbot: I'm sorry, but my program doesn't speak French.\n",
      "Chatbot: Saya tidak mendengar jawaban Anda, bisa ulangi?\n",
      "Chatbot: Saya tidak mendengar jawaban Anda, bisa ulangi?\n",
      "Chatbot: Terima kasih telah berbagi. Semoga hari Anda menyenangkan!\n",
      "Chatbot: Semua pertanyaan sudah selesai. Terima kasih atas waktu Anda!\n"
     ]
    }
   ],
   "source": [
    "from llama_cpp import Llama\n",
    "import datetime\n",
    "\n",
    "# Inisialisasi model Llama 2\n",
    "MODEL_PATH = \"../asset/llama-2-7b.Q8_0.gguf\"\n",
    "llm = Llama(model_path=MODEL_PATH)\n",
    "\n",
    "# State management untuk menyimpan riwayat percakapan\n",
    "conversation_history = []\n",
    "\n",
    "# Daftar pertanyaan utama\n",
    "questions = [\n",
    "    \"Bagaimana aktivitas Anda hari ini?\",\n",
    "    \"Bagaimana perasaan Anda saat ini?\",\n",
    "    \"Apakah ada masalah atau kekhawatiran yang Anda rasakan?\",\n",
    "    \"Seberapa puas Anda dengan aktivitas harian Anda dari skala 1-10?\",\n",
    "    \"Bagaimana kondisi fisik Anda hari ini? Ada keluhan kesehatan?\",\n",
    "    \"Lingkungan sekitar Anda nyaman atau ada hal yang mengganggu?\",\n",
    "    \"Adakah kegiatan yang sangat Anda sukai atau hindari hari ini?\"\n",
    "]\n",
    "\n",
    "# State management untuk mengingat posisi percakapan\n",
    "conversation_state = {\"current_question_index\": 0}\n",
    "\n",
    "# Fungsi untuk mengajukan pertanyaan utama atau tindak lanjut\n",
    "def ask_question(state):\n",
    "    index = state[\"current_question_index\"]\n",
    "    if index < len(questions):\n",
    "        return questions[index]\n",
    "    else:\n",
    "        return None\n",
    "\n",
    "# Fungsi untuk mendapatkan respons dari Llama 2\n",
    "def get_llama_response(user_input, history):\n",
    "    context = \"\\n\".join(history) + f\"\\nUser: {user_input}\\nChatbot:\"\n",
    "    response = llm(\n",
    "        prompt=context,\n",
    "        max_tokens=150,\n",
    "        stop=[\"User:\", \"Chatbot:\"],\n",
    "        temperature=0.8\n",
    "    )\n",
    "    return response[\"choices\"][0][\"text\"].strip()\n",
    "\n",
    "# Fungsi chatbot flow dengan interaksi dinamis\n",
    "def chatbot_flow():\n",
    "    print(\"Halo! Saya chatbot terapis Anda yang superkepo dan siap mendengarkan.\")\n",
    "    \n",
    "    while True:\n",
    "        # Ambil pertanyaan utama atau lanjutkan percakapan dinamis\n",
    "        question = ask_question(conversation_state)\n",
    "        \n",
    "        # Ajukan pertanyaan jika ada, atau berikan respons bebas\n",
    "        if question:\n",
    "            print(f\"Chatbot: {question}\")\n",
    "            user_input = input(\"User: \")\n",
    "            conversation_state[\"current_question_index\"] += 1\n",
    "        else:\n",
    "            user_input = input(\"User (ceritakan apa saja): \")\n",
    "        \n",
    "        # Menghentikan percakapan jika user ingin berhenti\n",
    "        if user_input.lower() in [\"selesai\", \"stop\", \"tidak mau jawab\"]:\n",
    "            print(\"Chatbot: Terima kasih telah berbagi. Semoga hari Anda menyenangkan!\")\n",
    "            break\n",
    "        \n",
    "        # Validasi input user\n",
    "        if not user_input.strip():\n",
    "            print(\"Chatbot: Saya tidak mendengar jawaban Anda, bisa ulangi?\")\n",
    "            continue\n",
    "        \n",
    "        # Tambahkan input user ke riwayat percakapan\n",
    "        conversation_history.append(f\"User: {user_input}\")\n",
    "        \n",
    "        # Dapatkan respons dari model Llama 2\n",
    "        chatbot_response = get_llama_response(user_input, conversation_history)\n",
    "        print(f\"Chatbot: {chatbot_response}\")\n",
    "        \n",
    "        # Tambahkan respons chatbot ke riwayat percakapan\n",
    "        conversation_history.append(f\"Chatbot: {chatbot_response}\")\n",
    "        \n",
    "        # Interaksi dinamis: jika tidak ada pertanyaan utama, tanyakan pertanyaan follow-up\n",
    "        if not question:\n",
    "            follow_up = input(\"Chatbot: Apakah Anda ingin berbicara lebih lanjut tentang hal ini? (ya/tidak): \")\n",
    "            if follow_up.lower() == \"ya\":\n",
    "                print(\"Chatbot: Silakan ceritakan lebih lanjut.\")\n",
    "            else:\n",
    "                # Kembali ke pertanyaan utama jika user tidak ingin melanjutkan topik\n",
    "                if conversation_state[\"current_question_index\"] < len(questions):\n",
    "                    continue\n",
    "                else:\n",
    "                    print(\"Chatbot: Terima kasih atas percakapan ini! Saya selalu siap mendengarkan.\")\n",
    "                    break\n",
    "\n",
    "    print(\"Chatbot: Semua pertanyaan sudah selesai. Terima kasih atas waktu Anda!\")\n",
    "\n",
    "# Jalankan chatbot\n",
    "chatbot_flow()\n"
   ]
  }
 ],
 "metadata": {
  "kernelspec": {
   "display_name": "venv",
   "language": "python",
   "name": "python3"
  },
  "language_info": {
   "codemirror_mode": {
    "name": "ipython",
    "version": 3
   },
   "file_extension": ".py",
   "mimetype": "text/x-python",
   "name": "python",
   "nbconvert_exporter": "python",
   "pygments_lexer": "ipython3",
   "version": "3.9.20"
  }
 },
 "nbformat": 4,
 "nbformat_minor": 2
}

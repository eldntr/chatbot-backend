version https://git-lfs.github.com/spec/v1
oid sha256:2302f81cd7770d3c81c6519e8acd9396568e5b8102a1df26e97455c580260ca4
size 483065
